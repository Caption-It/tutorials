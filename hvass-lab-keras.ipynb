{
 "cells": [
  {
   "cell_type": "markdown",
   "metadata": {
    "colab_type": "text",
    "id": "OMiRYafwk3ec"
   },
   "source": [
    "# Adaptation of Hvass-Lab's Tensorflow/Keras Image Catpioning Tutorial\n",
    "[Original Tutorial](https://github.com/Hvass-Labs/TensorFlow-Tutorials/blob/master/22_Image_Captioning.ipynb)"
   ]
  },
  {
   "cell_type": "code",
   "execution_count": 8,
   "metadata": {
    "colab": {},
    "colab_type": "code",
    "id": "9rC_C68aAOa9"
   },
   "outputs": [],
   "source": [
    "#@title Notebook Params\n",
    "\n",
    "#@markdown ### Data Params\n",
    "download_data = True #@param {type: \"boolean\"}\n",
    "data_dir = '/data'\n",
    "image_dir = f'{data_dir}/images'\n",
    "\n",
    "#@markdown ### Tokenizer Params\n",
    "mark_start = 'ssss ' #@param {type: \"string\"}\n",
    "mark_end = ' eeee'   #@param {type: \"string\"}\n",
    "num_words = 10000 #@param {type: \"number\"}\n",
    "\n",
    "#@markdown ### RNN Model Params\n",
    "state_size = 512 #@param {type: \"number\"}\n",
    "embedding_size = 128 #@param {type: \"number\"}\n",
    "\n",
    "images_batch_size = 16 #@param {type: \"number\"}\n",
    "batch_size =  512 #@param {type: \"number\"}\n",
    "epochs = 20 #@param {type: \"number\"}\n",
    "steps_per_epoch = 1000 #@param {type: \"number\"}\n",
    "\n",
    "#@markdown ### Dataset Size Params\n",
    "#@markdown Dataset size values of 0 will use the whole dataset\n",
    "train_set_size =  100 #@param {type: \"number\"}\n",
    "val_set_size =  100#@param {type: \"number\"}"
   ]
  },
  {
   "cell_type": "markdown",
   "metadata": {
    "colab_type": "text",
    "id": "Dfa_QWt_lhHJ"
   },
   "source": [
    "## Install and Import Libraries"
   ]
  },
  {
   "cell_type": "code",
   "execution_count": 9,
   "metadata": {
    "colab": {
     "base_uri": "https://localhost:8080/",
     "height": 0
    },
    "colab_type": "code",
    "executionInfo": {
     "elapsed": 5074,
     "status": "ok",
     "timestamp": 1582352868550,
     "user": {
      "displayName": "Casey Irvine",
      "photoUrl": "https://lh3.googleusercontent.com/a-/AAuE7mBNhl4Z3JEB3cNwOI9OVaHHMz99DTMMrZEZgqr4=s64",
      "userId": "11272809412047287046"
     },
     "user_tz": 480
    },
    "id": "ZAW_Y4k0NqS_",
    "outputId": "b235ca1c-f489-4b70-edb8-4b95f51d7e32"
   },
   "outputs": [
    {
     "name": "stdout",
     "output_type": "stream",
     "text": [
      "Requirement already satisfied: pycocotools in /home/casey/anaconda3/envs/cap-env/lib/python3.7/site-packages (2.0.0)\n"
     ]
    }
   ],
   "source": [
    "# Install the coco utils library and its dependencies.\n",
    "!pip install pycocotools"
   ]
  },
  {
   "cell_type": "code",
   "execution_count": 10,
   "metadata": {
    "colab": {
     "base_uri": "https://localhost:8080/",
     "height": 0
    },
    "colab_type": "code",
    "executionInfo": {
     "elapsed": 6305,
     "status": "ok",
     "timestamp": 1582352869785,
     "user": {
      "displayName": "Casey Irvine",
      "photoUrl": "https://lh3.googleusercontent.com/a-/AAuE7mBNhl4Z3JEB3cNwOI9OVaHHMz99DTMMrZEZgqr4=s64",
      "userId": "11272809412047287046"
     },
     "user_tz": 480
    },
    "id": "tH3EXBWE7rjU",
    "outputId": "a72659fd-29cd-48be-8da3-acfc95960f8c"
   },
   "outputs": [],
   "source": [
    "import os\n",
    "from tqdm.notebook import tqdm\n",
    "\n",
    "import numpy as np\n",
    "%matplotlib inline\n",
    "import matplotlib.pyplot as plt\n",
    "import tensorflow as tf\n",
    "from tensorflow.python.keras.applications.vgg16 import VGG16\n",
    "from tensorflow.python.keras.models import Model\n",
    "from tensorflow.python.keras.layers import Input, Dense, GRU, Embedding\n",
    "from tensorflow.python.keras.optimizers import RMSprop\n",
    "from tensorflow.python.keras import backend as K\n",
    "from tensorflow.python.keras.preprocessing.text import Tokenizer\n",
    "from tensorflow.python.keras.preprocessing.sequence import pad_sequences\n",
    "\n",
    "import skimage.io as io\n",
    "from PIL import Image\n",
    "from pycocotools.coco import COCO"
   ]
  },
  {
   "cell_type": "code",
   "execution_count": 11,
   "metadata": {},
   "outputs": [
    {
     "data": {
      "text/plain": [
       "[PhysicalDevice(name='/physical_device:GPU:0', device_type='GPU')]"
      ]
     },
     "execution_count": 11,
     "metadata": {},
     "output_type": "execute_result"
    }
   ],
   "source": [
    "# Are we running on GPU?\n",
    "physical_devices = tf.config.list_physical_devices('GPU')\n",
    "physical_devices"
   ]
  },
  {
   "cell_type": "code",
   "execution_count": 12,
   "metadata": {},
   "outputs": [],
   "source": [
    "# Allow Tensorflow/Keras to use more GPU memory\n",
    "if physical_devices:\n",
    "    tf.config.experimental.set_memory_growth(physical_devices[0], True)"
   ]
  },
  {
   "cell_type": "markdown",
   "metadata": {
    "colab_type": "text",
    "id": "mcA_YwnClw2Q"
   },
   "source": [
    "## Download and Load COCO Dataset"
   ]
  },
  {
   "cell_type": "code",
   "execution_count": 13,
   "metadata": {
    "colab": {},
    "colab_type": "code",
    "id": "LaBJsNCFTVQ5"
   },
   "outputs": [],
   "source": [
    "# Download and extract the dataset\n",
    "def download_and_extract(file_name_no_extension, dest_dir=None, data_dir='.', sub_path='zips'):\n",
    "    '''Download and extract zip files if they haven't been already.\n",
    "    '''\n",
    "    print(f'Downloading {file_name_no_extension}.zip')\n",
    "    !wget --timestamping -c -P {data_dir} http://images.cocodataset.org/{sub_path}/{file_name_no_extension}.zip \n",
    "    if dest_dir:\n",
    "        !mkdir -p {dest_dir}\n",
    "        print(f'Extracting {file_name_no_extension}.zip to {dest_dir}')\n",
    "        !unzip -uojq {data_dir}/{file_name_no_extension}.zip -d {dest_dir}\n",
    "    else:\n",
    "        print(f'Extracting {file_name_no_extension}.zip to {data_dir}')\n",
    "        !unzip -uoq {data_dir}/{file_name_no_extension}.zip -d {data_dir}"
   ]
  },
  {
   "cell_type": "code",
   "execution_count": 14,
   "metadata": {
    "colab": {
     "base_uri": "https://localhost:8080/",
     "height": 697
    },
    "colab_type": "code",
    "executionInfo": {
     "elapsed": 811624,
     "status": "ok",
     "timestamp": 1582353675110,
     "user": {
      "displayName": "Casey Irvine",
      "photoUrl": "https://lh3.googleusercontent.com/a-/AAuE7mBNhl4Z3JEB3cNwOI9OVaHHMz99DTMMrZEZgqr4=s64",
      "userId": "11272809412047287046"
     },
     "user_tz": 480
    },
    "id": "wfod_3g5DLFV",
    "outputId": "c0021848-e5ef-4909-c523-220748400eb6"
   },
   "outputs": [
    {
     "name": "stdout",
     "output_type": "stream",
     "text": [
      "Downloading annotations_trainval2017.zip\n",
      "--2020-02-22 23:46:27--  http://images.cocodataset.org/annotations/annotations_trainval2017.zip\n",
      "Resolving images.cocodataset.org (images.cocodataset.org)... 52.216.109.19\n",
      "Connecting to images.cocodataset.org (images.cocodataset.org)|52.216.109.19|:80... connected.\n",
      "HTTP request sent, awaiting response... 304 Not Modified\n",
      "File ‘/data/annotations_trainval2017.zip’ not modified on server. Omitting download.\n",
      "\n",
      "Extracting annotations_trainval2017.zip to /data\n",
      "Downloading train2017.zip\n",
      "--2020-02-22 23:46:27--  http://images.cocodataset.org/zips/train2017.zip\n",
      "Resolving images.cocodataset.org (images.cocodataset.org)... 52.216.109.19\n",
      "Connecting to images.cocodataset.org (images.cocodataset.org)|52.216.109.19|:80... connected.\n",
      "HTTP request sent, awaiting response... 304 Not Modified\n",
      "File ‘/data/train2017.zip’ not modified on server. Omitting download.\n",
      "\n",
      "Extracting train2017.zip to /data/images\n",
      "Downloading val2017.zip\n",
      "--2020-02-22 23:46:28--  http://images.cocodataset.org/zips/val2017.zip\n",
      "Resolving images.cocodataset.org (images.cocodataset.org)... 52.216.109.19\n",
      "Connecting to images.cocodataset.org (images.cocodataset.org)|52.216.109.19|:80... connected.\n",
      "HTTP request sent, awaiting response... 304 Not Modified\n",
      "File ‘/data/val2017.zip’ not modified on server. Omitting download.\n",
      "\n",
      "Extracting val2017.zip to /data/images\n",
      "Done!\n"
     ]
    }
   ],
   "source": [
    "# Download and extract the dataset if we haven't already\n",
    "if download_data:\n",
    "    download_and_extract('annotations_trainval2017', data_dir=data_dir, sub_path='annotations')\n",
    "    download_and_extract('train2017', dest_dir=image_dir, data_dir=data_dir)\n",
    "    download_and_extract('val2017', dest_dir=image_dir, data_dir=data_dir)\n",
    "    print('Done!')"
   ]
  },
  {
   "cell_type": "code",
   "execution_count": 15,
   "metadata": {
    "colab": {
     "base_uri": "https://localhost:8080/",
     "height": 153
    },
    "colab_type": "code",
    "executionInfo": {
     "elapsed": 814924,
     "status": "ok",
     "timestamp": 1582353678415,
     "user": {
      "displayName": "Casey Irvine",
      "photoUrl": "https://lh3.googleusercontent.com/a-/AAuE7mBNhl4Z3JEB3cNwOI9OVaHHMz99DTMMrZEZgqr4=s64",
      "userId": "11272809412047287046"
     },
     "user_tz": 480
    },
    "id": "wHzGteavOH2P",
    "outputId": "6259f3f2-7b1c-476a-ce32-271f231ef397"
   },
   "outputs": [
    {
     "name": "stdout",
     "output_type": "stream",
     "text": [
      "loading annotations into memory...\n",
      "Done (t=0.56s)\n",
      "creating index...\n",
      "index created!\n",
      "loading annotations into memory...\n",
      "Done (t=0.10s)\n",
      "creating index...\n",
      "index created!\n"
     ]
    }
   ],
   "source": [
    "# Load the coco dataset using coco tools python library\n",
    "coco_train = COCO(f'{data_dir}/annotations/captions_train2017.json')\n",
    "coco_val = COCO(f'{data_dir}/annotations/captions_val2017.json')"
   ]
  },
  {
   "cell_type": "code",
   "execution_count": 16,
   "metadata": {
    "colab": {},
    "colab_type": "code",
    "id": "hmbN9BTrDjLL"
   },
   "outputs": [],
   "source": [
    "# Get train and validation img_id sets\n",
    "train_img_ids_full = coco_train.getImgIds()\n",
    "val_img_ids_full = coco_val.getImgIds()\n",
    "# Take a subset of img_ids if 0 is not specified as the dataset size\n",
    "train_img_ids = (train_img_ids_full if train_set_size == 0 \n",
    "                 else train_img_ids_full[:train_set_size])\n",
    "val_img_ids = (val_img_ids_full if val_set_size == 0 \n",
    "                 else val_img_ids_full[:val_set_size])"
   ]
  },
  {
   "cell_type": "markdown",
   "metadata": {
    "colab_type": "text",
    "id": "dWuOBMiCmXfh"
   },
   "source": [
    "## Create Model That Understands Images"
   ]
  },
  {
   "cell_type": "code",
   "execution_count": 17,
   "metadata": {
    "colab": {},
    "colab_type": "code",
    "id": "8qmZaxe78V5Z"
   },
   "outputs": [],
   "source": [
    "def load_image(path, size=None):\n",
    "    \"\"\"\n",
    "    Load the image from the given file-path and resize it\n",
    "    to the given size if not None.\n",
    "    \"\"\"\n",
    "    img = Image.open(path)\n",
    "    # Resize image if desired.\n",
    "    if not size is None:\n",
    "        img = img.resize(size=size, resample=Image.LANCZOS)\n",
    "    img = np.array(img)\n",
    "    # Scale image-pixels so they fall between 0.0 and 1.0\n",
    "    img = img / 255.0\n",
    "    # Convert 2-dim gray-scale array to 3-dim RGB array.\n",
    "    if (len(img.shape) == 2):\n",
    "        img = np.repeat(img[:, :, np.newaxis], 3, axis=2)\n",
    "\n",
    "    return img"
   ]
  },
  {
   "cell_type": "code",
   "execution_count": 18,
   "metadata": {
    "colab": {},
    "colab_type": "code",
    "id": "ZwVtVursASIm"
   },
   "outputs": [],
   "source": [
    "def show_images(img_ids, coco, image_dir):\n",
    "    img_props_list = coco.loadImgs(img_ids)\n",
    "\n",
    "    for img_props in img_props_list: \n",
    "        img = load_image(os.path.join(image_dir, img_props['file_name']))\n",
    "        plt.axis('off')\n",
    "        plt.imshow(img)\n",
    "        plt.show()\n",
    "\n",
    "        ann_ids = coco.getAnnIds(imgIds=img_props['id'])\n",
    "        anns = coco.loadAnns(ann_ids)\n",
    "        coco.showAnns(anns)"
   ]
  },
  {
   "cell_type": "code",
   "execution_count": 19,
   "metadata": {
    "colab": {
     "base_uri": "https://localhost:8080/",
     "height": 324
    },
    "colab_type": "code",
    "executionInfo": {
     "elapsed": 815331,
     "status": "ok",
     "timestamp": 1582353678837,
     "user": {
      "displayName": "Casey Irvine",
      "photoUrl": "https://lh3.googleusercontent.com/a-/AAuE7mBNhl4Z3JEB3cNwOI9OVaHHMz99DTMMrZEZgqr4=s64",
      "userId": "11272809412047287046"
     },
     "user_tz": 480
    },
    "id": "NMP-yRZxQecy",
    "outputId": "074c684e-5017-43d5-fda5-411f3e2fe474"
   },
   "outputs": [
    {
     "data": {
      "image/png": "[encoded data removed]",
      "text/plain": [
       "<Figure size 432x288 with 1 Axes>"
      ]
     },
     "metadata": {
      "needs_background": "light"
     },
     "output_type": "display_data"
    },
    {
     "name": "stdout",
     "output_type": "stream",
     "text": [
      "A man with a red helmet on a small moped on a dirt road. \n",
      "Man riding a motor bike on a dirt road on the countryside.\n",
      "A man riding on the back of a motorcycle.\n",
      "A dirt path with a young person on a motor bike rests to the foreground of a verdant area with a bridge and a background of cloud-wreathed mountains. \n",
      "A man in a red shirt and a red hat is on a motorcycle on a hill side.\n"
     ]
    }
   ],
   "source": [
    "# Let's show an image and the caption!\n",
    "show_images(train_img_ids[0], coco_train, image_dir)"
   ]
  },
  {
   "cell_type": "code",
   "execution_count": 20,
   "metadata": {
    "colab": {
     "base_uri": "https://localhost:8080/",
     "height": 122
    },
    "colab_type": "code",
    "executionInfo": {
     "elapsed": 831284,
     "status": "ok",
     "timestamp": 1582353694793,
     "user": {
      "displayName": "Casey Irvine",
      "photoUrl": "https://lh3.googleusercontent.com/a-/AAuE7mBNhl4Z3JEB3cNwOI9OVaHHMz99DTMMrZEZgqr4=s64",
      "userId": "11272809412047287046"
     },
     "user_tz": 480
    },
    "id": "gY81W8sijGWA",
    "outputId": "af961f74-24e0-4042-e3a6-dde240b88887"
   },
   "outputs": [],
   "source": [
    "# Load our pretrained model for 'understanding' images\n",
    "image_model = VGG16(include_top=True, weights='imagenet')"
   ]
  },
  {
   "cell_type": "code",
   "execution_count": 21,
   "metadata": {
    "colab": {
     "base_uri": "https://localhost:8080/",
     "height": 935
    },
    "colab_type": "code",
    "executionInfo": {
     "elapsed": 831282,
     "status": "ok",
     "timestamp": 1582353694794,
     "user": {
      "displayName": "Casey Irvine",
      "photoUrl": "https://lh3.googleusercontent.com/a-/AAuE7mBNhl4Z3JEB3cNwOI9OVaHHMz99DTMMrZEZgqr4=s64",
      "userId": "11272809412047287046"
     },
     "user_tz": 480
    },
    "id": "TcuuBPWUkhb3",
    "outputId": "9c9f078c-e5ff-4370-b2ec-5a99d0de950a"
   },
   "outputs": [
    {
     "name": "stdout",
     "output_type": "stream",
     "text": [
      "Model: \"vgg16\"\n",
      "_________________________________________________________________\n",
      "Layer (type)                 Output Shape              Param #   \n",
      "=================================================================\n",
      "input_1 (InputLayer)         [(None, 224, 224, 3)]     0         \n",
      "_________________________________________________________________\n",
      "block1_conv1 (Conv2D)        (None, 224, 224, 64)      1792      \n",
      "_________________________________________________________________\n",
      "block1_conv2 (Conv2D)        (None, 224, 224, 64)      36928     \n",
      "_________________________________________________________________\n",
      "block1_pool (MaxPooling2D)   (None, 112, 112, 64)      0         \n",
      "_________________________________________________________________\n",
      "block2_conv1 (Conv2D)        (None, 112, 112, 128)     73856     \n",
      "_________________________________________________________________\n",
      "block2_conv2 (Conv2D)        (None, 112, 112, 128)     147584    \n",
      "_________________________________________________________________\n",
      "block2_pool (MaxPooling2D)   (None, 56, 56, 128)       0         \n",
      "_________________________________________________________________\n",
      "block3_conv1 (Conv2D)        (None, 56, 56, 256)       295168    \n",
      "_________________________________________________________________\n",
      "block3_conv2 (Conv2D)        (None, 56, 56, 256)       590080    \n",
      "_________________________________________________________________\n",
      "block3_conv3 (Conv2D)        (None, 56, 56, 256)       590080    \n",
      "_________________________________________________________________\n",
      "block3_pool (MaxPooling2D)   (None, 28, 28, 256)       0         \n",
      "_________________________________________________________________\n",
      "block4_conv1 (Conv2D)        (None, 28, 28, 512)       1180160   \n",
      "_________________________________________________________________\n",
      "block4_conv2 (Conv2D)        (None, 28, 28, 512)       2359808   \n",
      "_________________________________________________________________\n",
      "block4_conv3 (Conv2D)        (None, 28, 28, 512)       2359808   \n",
      "_________________________________________________________________\n",
      "block4_pool (MaxPooling2D)   (None, 14, 14, 512)       0         \n",
      "_________________________________________________________________\n",
      "block5_conv1 (Conv2D)        (None, 14, 14, 512)       2359808   \n",
      "_________________________________________________________________\n",
      "block5_conv2 (Conv2D)        (None, 14, 14, 512)       2359808   \n",
      "_________________________________________________________________\n",
      "block5_conv3 (Conv2D)        (None, 14, 14, 512)       2359808   \n",
      "_________________________________________________________________\n",
      "block5_pool (MaxPooling2D)   (None, 7, 7, 512)         0         \n",
      "_________________________________________________________________\n",
      "flatten (Flatten)            (None, 25088)             0         \n",
      "_________________________________________________________________\n",
      "fc1 (Dense)                  (None, 4096)              102764544 \n",
      "_________________________________________________________________\n",
      "fc2 (Dense)                  (None, 4096)              16781312  \n",
      "_________________________________________________________________\n",
      "predictions (Dense)          (None, 1000)              4097000   \n",
      "=================================================================\n",
      "Total params: 138,357,544\n",
      "Trainable params: 138,357,544\n",
      "Non-trainable params: 0\n",
      "_________________________________________________________________\n"
     ]
    }
   ],
   "source": [
    "image_model.summary()"
   ]
  },
  {
   "cell_type": "code",
   "execution_count": 22,
   "metadata": {
    "colab": {},
    "colab_type": "code",
    "id": "x62JPhG1k4mc"
   },
   "outputs": [],
   "source": [
    "# Drop the last layer (prediction layer) from the image model\n",
    "# since we are going to use this model as part of our larger model\n",
    "# and not for prediction directly (transfer learning)\n",
    "transfer_layer = image_model.get_layer('fc2')\n",
    "image_transer_model = Model(inputs=image_model.input,\n",
    "                            outputs=transfer_layer.output)"
   ]
  },
  {
   "cell_type": "code",
   "execution_count": 23,
   "metadata": {
    "colab": {
     "base_uri": "https://localhost:8080/",
     "height": 34
    },
    "colab_type": "code",
    "executionInfo": {
     "elapsed": 831277,
     "status": "ok",
     "timestamp": 1582353694795,
     "user": {
      "displayName": "Casey Irvine",
      "photoUrl": "https://lh3.googleusercontent.com/a-/AAuE7mBNhl4Z3JEB3cNwOI9OVaHHMz99DTMMrZEZgqr4=s64",
      "userId": "11272809412047287046"
     },
     "user_tz": 480
    },
    "id": "lHDQh072lSjO",
    "outputId": "625bcb53-6e6d-457a-8c68-205736496101"
   },
   "outputs": [
    {
     "name": "stdout",
     "output_type": "stream",
     "text": [
      "(224, 224)\n"
     ]
    }
   ],
   "source": [
    "# Get the expected size in pixels for an image that is fed into the model.\n",
    "img_size = K.int_shape(image_model.input)[1:3]\n",
    "print(img_size)"
   ]
  },
  {
   "cell_type": "code",
   "execution_count": 24,
   "metadata": {
    "colab": {
     "base_uri": "https://localhost:8080/",
     "height": 34
    },
    "colab_type": "code",
    "executionInfo": {
     "elapsed": 831274,
     "status": "ok",
     "timestamp": 1582353694796,
     "user": {
      "displayName": "Casey Irvine",
      "photoUrl": "https://lh3.googleusercontent.com/a-/AAuE7mBNhl4Z3JEB3cNwOI9OVaHHMz99DTMMrZEZgqr4=s64",
      "userId": "11272809412047287046"
     },
     "user_tz": 480
    },
    "id": "NkhlnL63lVpF",
    "outputId": "93e54e1f-cc92-43eb-cfd7-de0ea2ed842a"
   },
   "outputs": [
    {
     "name": "stdout",
     "output_type": "stream",
     "text": [
      "4096\n"
     ]
    }
   ],
   "source": [
    "# Get the size of the output layer.\n",
    "transfer_values_size = K.int_shape(transfer_layer.output)[1]\n",
    "print(transfer_values_size)"
   ]
  },
  {
   "cell_type": "code",
   "execution_count": 25,
   "metadata": {
    "colab": {},
    "colab_type": "code",
    "id": "fV-U40xGtALl"
   },
   "outputs": [],
   "source": [
    "def create_batches(l, batch_size):\n",
    "    for idx in range(0, len(l), batch_size):\n",
    "        yield l[idx:idx+batch_size]"
   ]
  },
  {
   "cell_type": "code",
   "execution_count": 26,
   "metadata": {
    "colab": {},
    "colab_type": "code",
    "id": "cb606lFdoGYz"
   },
   "outputs": [],
   "source": [
    "def process_images(img_ids, image_dir,\n",
    "                   coco, model, batch_size=32,\n",
    "                   img_size=(224,224), transfer_size=4096):\n",
    "    num_images = len(img_ids)\n",
    "    img_shape = (batch_size,) + img_size + (3,)\n",
    "    img_batch = np.zeros(shape=img_shape, dtype=np.float16)\n",
    "    transfer_shape = (num_images, transfer_size)\n",
    "    transfer_values = np.zeros(shape=transfer_shape, dtype=np.float16)\n",
    "    img_id_batches = create_batches(img_ids, batch_size)\n",
    "    start_index = 0\n",
    "    for img_id_batch in tqdm(img_id_batches):\n",
    "        img_props_batch = coco.loadImgs(ids=img_id_batch)\n",
    "        # The size of the current batch can be less than batch_size\n",
    "        # if the dataset doesn't devide evenly into batch_size\n",
    "        current_batch_size = len(img_props_batch)\n",
    "        for idx, img_props in enumerate(img_props_batch):\n",
    "            img_batch[idx] = load_image(\n",
    "                                os.path.join(image_dir, img_props['file_name']),\n",
    "                                size=img_size)\n",
    "\n",
    "        transfer_values_batch = model.predict(img_batch[0:current_batch_size])\n",
    "        transfer_values[start_index:start_index + current_batch_size] = (\n",
    "            transfer_values_batch[0:current_batch_size]\n",
    "        )\n",
    "\n",
    "        start_index += current_batch_size\n",
    "\n",
    "    return transfer_values"
   ]
  },
  {
   "cell_type": "code",
   "execution_count": 27,
   "metadata": {
    "colab": {
     "base_uri": "https://localhost:8080/",
     "height": 83,
     "referenced_widgets": [
      "d5ea53078da04aa29b812271df9a7a0d",
      "a07b879adfb84e9cab074fe66f1f91ec",
      "51eb987bf1a04ef698e96c3d5597494e",
      "f7782f82bedc4b9faa433fcb521e20dd",
      "6463bfd9d23249fcb075dd1901e8902b",
      "d5cc51818aad4e78a6a3f9c6b66c4f16",
      "ae8bb580d1124deb87516abeddd4dafc",
      "4e69541d71694f67bad593985a0aa827"
     ]
    },
    "colab_type": "code",
    "executionInfo": {
     "elapsed": 885386,
     "status": "ok",
     "timestamp": 1582353748917,
     "user": {
      "displayName": "Casey Irvine",
      "photoUrl": "https://lh3.googleusercontent.com/a-/AAuE7mBNhl4Z3JEB3cNwOI9OVaHHMz99DTMMrZEZgqr4=s64",
      "userId": "11272809412047287046"
     },
     "user_tz": 480
    },
    "id": "Nxztm1rToUmK",
    "outputId": "40c8da3d-06a7-40ca-93fa-a9cb6952dce9"
   },
   "outputs": [
    {
     "data": {
      "application/vnd.jupyter.widget-view+json": {
       "model_id": "6a06440fee4047c795d4f1d3837f81b3",
       "version_major": 2,
       "version_minor": 0
      },
      "text/plain": [
       "HBox(children=(FloatProgress(value=1.0, bar_style='info', max=1.0), HTML(value='')))"
      ]
     },
     "metadata": {},
     "output_type": "display_data"
    },
    {
     "ename": "ResourceExhaustedError",
     "evalue": " OOM when allocating tensor with shape[32,64,224,224] and type float on /job:localhost/replica:0/task:0/device:GPU:0 by allocator GPU_0_bfc\n\t [[node model/block1_conv1/Conv2D (defined at <ipython-input-26-a9bc93f9f6fd>:21) ]]\nHint: If you want to see a list of allocated tensors when OOM happens, add report_tensor_allocations_upon_oom to RunOptions for current allocation info.\n [Op:__inference_distributed_function_644]\n\nFunction call stack:\ndistributed_function\n",
     "output_type": "error",
     "traceback": [
      "\u001b[0;31m---------------------------------------------------------------------------\u001b[0m",
      "\u001b[0;31mResourceExhaustedError\u001b[0m                    Traceback (most recent call last)",
      "\u001b[0;32m<ipython-input-27-684d312bf6ac>\u001b[0m in \u001b[0;36m<module>\u001b[0;34m\u001b[0m\n\u001b[1;32m      4\u001b[0m                         \u001b[0mcoco_train\u001b[0m\u001b[0;34m,\u001b[0m\u001b[0;34m\u001b[0m\u001b[0;34m\u001b[0m\u001b[0m\n\u001b[1;32m      5\u001b[0m                         \u001b[0mimage_transer_model\u001b[0m\u001b[0;34m,\u001b[0m\u001b[0;34m\u001b[0m\u001b[0;34m\u001b[0m\u001b[0m\n\u001b[0;32m----> 6\u001b[0;31m                         batch_size=images_batch_size)\n\u001b[0m\u001b[1;32m      7\u001b[0m \u001b[0mtransfer_values\u001b[0m\u001b[0;34m[\u001b[0m\u001b[0;36m0\u001b[0m\u001b[0;34m]\u001b[0m\u001b[0;34m\u001b[0m\u001b[0;34m\u001b[0m\u001b[0m\n",
      "\u001b[0;32m<ipython-input-26-a9bc93f9f6fd>\u001b[0m in \u001b[0;36mprocess_images\u001b[0;34m(img_ids, image_dir, coco, model, batch_size, img_size, transfer_size)\u001b[0m\n\u001b[1;32m     19\u001b[0m                                 size=img_size)\n\u001b[1;32m     20\u001b[0m \u001b[0;34m\u001b[0m\u001b[0m\n\u001b[0;32m---> 21\u001b[0;31m         \u001b[0mtransfer_values_batch\u001b[0m \u001b[0;34m=\u001b[0m \u001b[0mmodel\u001b[0m\u001b[0;34m.\u001b[0m\u001b[0mpredict\u001b[0m\u001b[0;34m(\u001b[0m\u001b[0mimg_batch\u001b[0m\u001b[0;34m[\u001b[0m\u001b[0;36m0\u001b[0m\u001b[0;34m:\u001b[0m\u001b[0mcurrent_batch_size\u001b[0m\u001b[0;34m]\u001b[0m\u001b[0;34m)\u001b[0m\u001b[0;34m\u001b[0m\u001b[0;34m\u001b[0m\u001b[0m\n\u001b[0m\u001b[1;32m     22\u001b[0m         transfer_values[start_index:start_index + current_batch_size] = (\n\u001b[1;32m     23\u001b[0m             \u001b[0mtransfer_values_batch\u001b[0m\u001b[0;34m[\u001b[0m\u001b[0;36m0\u001b[0m\u001b[0;34m:\u001b[0m\u001b[0mcurrent_batch_size\u001b[0m\u001b[0;34m]\u001b[0m\u001b[0;34m\u001b[0m\u001b[0;34m\u001b[0m\u001b[0m\n",
      "\u001b[0;32m~/anaconda3/envs/cap-env/lib/python3.7/site-packages/tensorflow_core/python/keras/engine/training.py\u001b[0m in \u001b[0;36mpredict\u001b[0;34m(self, x, batch_size, verbose, steps, callbacks, max_queue_size, workers, use_multiprocessing)\u001b[0m\n\u001b[1;32m   1011\u001b[0m         \u001b[0mmax_queue_size\u001b[0m\u001b[0;34m=\u001b[0m\u001b[0mmax_queue_size\u001b[0m\u001b[0;34m,\u001b[0m\u001b[0;34m\u001b[0m\u001b[0;34m\u001b[0m\u001b[0m\n\u001b[1;32m   1012\u001b[0m         \u001b[0mworkers\u001b[0m\u001b[0;34m=\u001b[0m\u001b[0mworkers\u001b[0m\u001b[0;34m,\u001b[0m\u001b[0;34m\u001b[0m\u001b[0;34m\u001b[0m\u001b[0m\n\u001b[0;32m-> 1013\u001b[0;31m         use_multiprocessing=use_multiprocessing)\n\u001b[0m\u001b[1;32m   1014\u001b[0m \u001b[0;34m\u001b[0m\u001b[0m\n\u001b[1;32m   1015\u001b[0m   \u001b[0;32mdef\u001b[0m \u001b[0mreset_metrics\u001b[0m\u001b[0;34m(\u001b[0m\u001b[0mself\u001b[0m\u001b[0;34m)\u001b[0m\u001b[0;34m:\u001b[0m\u001b[0;34m\u001b[0m\u001b[0;34m\u001b[0m\u001b[0m\n",
      "\u001b[0;32m~/anaconda3/envs/cap-env/lib/python3.7/site-packages/tensorflow_core/python/keras/engine/training_v2.py\u001b[0m in \u001b[0;36mpredict\u001b[0;34m(self, model, x, batch_size, verbose, steps, callbacks, max_queue_size, workers, use_multiprocessing, **kwargs)\u001b[0m\n\u001b[1;32m    496\u001b[0m         \u001b[0mmodel\u001b[0m\u001b[0;34m,\u001b[0m \u001b[0mModeKeys\u001b[0m\u001b[0;34m.\u001b[0m\u001b[0mPREDICT\u001b[0m\u001b[0;34m,\u001b[0m \u001b[0mx\u001b[0m\u001b[0;34m=\u001b[0m\u001b[0mx\u001b[0m\u001b[0;34m,\u001b[0m \u001b[0mbatch_size\u001b[0m\u001b[0;34m=\u001b[0m\u001b[0mbatch_size\u001b[0m\u001b[0;34m,\u001b[0m \u001b[0mverbose\u001b[0m\u001b[0;34m=\u001b[0m\u001b[0mverbose\u001b[0m\u001b[0;34m,\u001b[0m\u001b[0;34m\u001b[0m\u001b[0;34m\u001b[0m\u001b[0m\n\u001b[1;32m    497\u001b[0m         \u001b[0msteps\u001b[0m\u001b[0;34m=\u001b[0m\u001b[0msteps\u001b[0m\u001b[0;34m,\u001b[0m \u001b[0mcallbacks\u001b[0m\u001b[0;34m=\u001b[0m\u001b[0mcallbacks\u001b[0m\u001b[0;34m,\u001b[0m \u001b[0mmax_queue_size\u001b[0m\u001b[0;34m=\u001b[0m\u001b[0mmax_queue_size\u001b[0m\u001b[0;34m,\u001b[0m\u001b[0;34m\u001b[0m\u001b[0;34m\u001b[0m\u001b[0m\n\u001b[0;32m--> 498\u001b[0;31m         workers=workers, use_multiprocessing=use_multiprocessing, **kwargs)\n\u001b[0m\u001b[1;32m    499\u001b[0m \u001b[0;34m\u001b[0m\u001b[0m\n\u001b[1;32m    500\u001b[0m \u001b[0;34m\u001b[0m\u001b[0m\n",
      "\u001b[0;32m~/anaconda3/envs/cap-env/lib/python3.7/site-packages/tensorflow_core/python/keras/engine/training_v2.py\u001b[0m in \u001b[0;36m_model_iteration\u001b[0;34m(self, model, mode, x, y, batch_size, verbose, sample_weight, steps, callbacks, max_queue_size, workers, use_multiprocessing, **kwargs)\u001b[0m\n\u001b[1;32m    473\u001b[0m               \u001b[0mmode\u001b[0m\u001b[0;34m=\u001b[0m\u001b[0mmode\u001b[0m\u001b[0;34m,\u001b[0m\u001b[0;34m\u001b[0m\u001b[0;34m\u001b[0m\u001b[0m\n\u001b[1;32m    474\u001b[0m               \u001b[0mtraining_context\u001b[0m\u001b[0;34m=\u001b[0m\u001b[0mtraining_context\u001b[0m\u001b[0;34m,\u001b[0m\u001b[0;34m\u001b[0m\u001b[0;34m\u001b[0m\u001b[0m\n\u001b[0;32m--> 475\u001b[0;31m               total_epochs=1)\n\u001b[0m\u001b[1;32m    476\u001b[0m           \u001b[0mcbks\u001b[0m\u001b[0;34m.\u001b[0m\u001b[0mmake_logs\u001b[0m\u001b[0;34m(\u001b[0m\u001b[0mmodel\u001b[0m\u001b[0;34m,\u001b[0m \u001b[0mepoch_logs\u001b[0m\u001b[0;34m,\u001b[0m \u001b[0mresult\u001b[0m\u001b[0;34m,\u001b[0m \u001b[0mmode\u001b[0m\u001b[0;34m)\u001b[0m\u001b[0;34m\u001b[0m\u001b[0;34m\u001b[0m\u001b[0m\n\u001b[1;32m    477\u001b[0m \u001b[0;34m\u001b[0m\u001b[0m\n",
      "\u001b[0;32m~/anaconda3/envs/cap-env/lib/python3.7/site-packages/tensorflow_core/python/keras/engine/training_v2.py\u001b[0m in \u001b[0;36mrun_one_epoch\u001b[0;34m(model, iterator, execution_function, dataset_size, batch_size, strategy, steps_per_epoch, num_samples, mode, training_context, total_epochs)\u001b[0m\n\u001b[1;32m    126\u001b[0m         step=step, mode=mode, size=current_batch_size) as batch_logs:\n\u001b[1;32m    127\u001b[0m       \u001b[0;32mtry\u001b[0m\u001b[0;34m:\u001b[0m\u001b[0;34m\u001b[0m\u001b[0;34m\u001b[0m\u001b[0m\n\u001b[0;32m--> 128\u001b[0;31m         \u001b[0mbatch_outs\u001b[0m \u001b[0;34m=\u001b[0m \u001b[0mexecution_function\u001b[0m\u001b[0;34m(\u001b[0m\u001b[0miterator\u001b[0m\u001b[0;34m)\u001b[0m\u001b[0;34m\u001b[0m\u001b[0;34m\u001b[0m\u001b[0m\n\u001b[0m\u001b[1;32m    129\u001b[0m       \u001b[0;32mexcept\u001b[0m \u001b[0;34m(\u001b[0m\u001b[0mStopIteration\u001b[0m\u001b[0;34m,\u001b[0m \u001b[0merrors\u001b[0m\u001b[0;34m.\u001b[0m\u001b[0mOutOfRangeError\u001b[0m\u001b[0;34m)\u001b[0m\u001b[0;34m:\u001b[0m\u001b[0;34m\u001b[0m\u001b[0;34m\u001b[0m\u001b[0m\n\u001b[1;32m    130\u001b[0m         \u001b[0;31m# TODO(kaftan): File bug about tf function and errors.OutOfRangeError?\u001b[0m\u001b[0;34m\u001b[0m\u001b[0;34m\u001b[0m\u001b[0;34m\u001b[0m\u001b[0m\n",
      "\u001b[0;32m~/anaconda3/envs/cap-env/lib/python3.7/site-packages/tensorflow_core/python/keras/engine/training_v2_utils.py\u001b[0m in \u001b[0;36mexecution_function\u001b[0;34m(input_fn)\u001b[0m\n\u001b[1;32m     96\u001b[0m     \u001b[0;31m# `numpy` translates Tensors to values in Eager mode.\u001b[0m\u001b[0;34m\u001b[0m\u001b[0;34m\u001b[0m\u001b[0;34m\u001b[0m\u001b[0m\n\u001b[1;32m     97\u001b[0m     return nest.map_structure(_non_none_constant_value,\n\u001b[0;32m---> 98\u001b[0;31m                               distributed_function(input_fn))\n\u001b[0m\u001b[1;32m     99\u001b[0m \u001b[0;34m\u001b[0m\u001b[0m\n\u001b[1;32m    100\u001b[0m   \u001b[0;32mreturn\u001b[0m \u001b[0mexecution_function\u001b[0m\u001b[0;34m\u001b[0m\u001b[0;34m\u001b[0m\u001b[0m\n",
      "\u001b[0;32m~/anaconda3/envs/cap-env/lib/python3.7/site-packages/tensorflow_core/python/eager/def_function.py\u001b[0m in \u001b[0;36m__call__\u001b[0;34m(self, *args, **kwds)\u001b[0m\n\u001b[1;32m    566\u001b[0m         \u001b[0mxla_context\u001b[0m\u001b[0;34m.\u001b[0m\u001b[0mExit\u001b[0m\u001b[0;34m(\u001b[0m\u001b[0;34m)\u001b[0m\u001b[0;34m\u001b[0m\u001b[0;34m\u001b[0m\u001b[0m\n\u001b[1;32m    567\u001b[0m     \u001b[0;32melse\u001b[0m\u001b[0;34m:\u001b[0m\u001b[0;34m\u001b[0m\u001b[0;34m\u001b[0m\u001b[0m\n\u001b[0;32m--> 568\u001b[0;31m       \u001b[0mresult\u001b[0m \u001b[0;34m=\u001b[0m \u001b[0mself\u001b[0m\u001b[0;34m.\u001b[0m\u001b[0m_call\u001b[0m\u001b[0;34m(\u001b[0m\u001b[0;34m*\u001b[0m\u001b[0margs\u001b[0m\u001b[0;34m,\u001b[0m \u001b[0;34m**\u001b[0m\u001b[0mkwds\u001b[0m\u001b[0;34m)\u001b[0m\u001b[0;34m\u001b[0m\u001b[0;34m\u001b[0m\u001b[0m\n\u001b[0m\u001b[1;32m    569\u001b[0m \u001b[0;34m\u001b[0m\u001b[0m\n\u001b[1;32m    570\u001b[0m     \u001b[0;32mif\u001b[0m \u001b[0mtracing_count\u001b[0m \u001b[0;34m==\u001b[0m \u001b[0mself\u001b[0m\u001b[0;34m.\u001b[0m\u001b[0m_get_tracing_count\u001b[0m\u001b[0;34m(\u001b[0m\u001b[0;34m)\u001b[0m\u001b[0;34m:\u001b[0m\u001b[0;34m\u001b[0m\u001b[0;34m\u001b[0m\u001b[0m\n",
      "\u001b[0;32m~/anaconda3/envs/cap-env/lib/python3.7/site-packages/tensorflow_core/python/eager/def_function.py\u001b[0m in \u001b[0;36m_call\u001b[0;34m(self, *args, **kwds)\u001b[0m\n\u001b[1;32m    604\u001b[0m       \u001b[0;31m# In this case we have not created variables on the first call. So we can\u001b[0m\u001b[0;34m\u001b[0m\u001b[0;34m\u001b[0m\u001b[0;34m\u001b[0m\u001b[0m\n\u001b[1;32m    605\u001b[0m       \u001b[0;31m# run the first trace but we should fail if variables are created.\u001b[0m\u001b[0;34m\u001b[0m\u001b[0;34m\u001b[0m\u001b[0;34m\u001b[0m\u001b[0m\n\u001b[0;32m--> 606\u001b[0;31m       \u001b[0mresults\u001b[0m \u001b[0;34m=\u001b[0m \u001b[0mself\u001b[0m\u001b[0;34m.\u001b[0m\u001b[0m_stateful_fn\u001b[0m\u001b[0;34m(\u001b[0m\u001b[0;34m*\u001b[0m\u001b[0margs\u001b[0m\u001b[0;34m,\u001b[0m \u001b[0;34m**\u001b[0m\u001b[0mkwds\u001b[0m\u001b[0;34m)\u001b[0m\u001b[0;34m\u001b[0m\u001b[0;34m\u001b[0m\u001b[0m\n\u001b[0m\u001b[1;32m    607\u001b[0m       \u001b[0;32mif\u001b[0m \u001b[0mself\u001b[0m\u001b[0;34m.\u001b[0m\u001b[0m_created_variables\u001b[0m\u001b[0;34m:\u001b[0m\u001b[0;34m\u001b[0m\u001b[0;34m\u001b[0m\u001b[0m\n\u001b[1;32m    608\u001b[0m         raise ValueError(\"Creating variables on a non-first call to a function\"\n",
      "\u001b[0;32m~/anaconda3/envs/cap-env/lib/python3.7/site-packages/tensorflow_core/python/eager/function.py\u001b[0m in \u001b[0;36m__call__\u001b[0;34m(self, *args, **kwargs)\u001b[0m\n\u001b[1;32m   2361\u001b[0m     \u001b[0;32mwith\u001b[0m \u001b[0mself\u001b[0m\u001b[0;34m.\u001b[0m\u001b[0m_lock\u001b[0m\u001b[0;34m:\u001b[0m\u001b[0;34m\u001b[0m\u001b[0;34m\u001b[0m\u001b[0m\n\u001b[1;32m   2362\u001b[0m       \u001b[0mgraph_function\u001b[0m\u001b[0;34m,\u001b[0m \u001b[0margs\u001b[0m\u001b[0;34m,\u001b[0m \u001b[0mkwargs\u001b[0m \u001b[0;34m=\u001b[0m \u001b[0mself\u001b[0m\u001b[0;34m.\u001b[0m\u001b[0m_maybe_define_function\u001b[0m\u001b[0;34m(\u001b[0m\u001b[0margs\u001b[0m\u001b[0;34m,\u001b[0m \u001b[0mkwargs\u001b[0m\u001b[0;34m)\u001b[0m\u001b[0;34m\u001b[0m\u001b[0;34m\u001b[0m\u001b[0m\n\u001b[0;32m-> 2363\u001b[0;31m     \u001b[0;32mreturn\u001b[0m \u001b[0mgraph_function\u001b[0m\u001b[0;34m.\u001b[0m\u001b[0m_filtered_call\u001b[0m\u001b[0;34m(\u001b[0m\u001b[0margs\u001b[0m\u001b[0;34m,\u001b[0m \u001b[0mkwargs\u001b[0m\u001b[0;34m)\u001b[0m  \u001b[0;31m# pylint: disable=protected-access\u001b[0m\u001b[0;34m\u001b[0m\u001b[0;34m\u001b[0m\u001b[0m\n\u001b[0m\u001b[1;32m   2364\u001b[0m \u001b[0;34m\u001b[0m\u001b[0m\n\u001b[1;32m   2365\u001b[0m   \u001b[0;34m@\u001b[0m\u001b[0mproperty\u001b[0m\u001b[0;34m\u001b[0m\u001b[0;34m\u001b[0m\u001b[0m\n",
      "\u001b[0;32m~/anaconda3/envs/cap-env/lib/python3.7/site-packages/tensorflow_core/python/eager/function.py\u001b[0m in \u001b[0;36m_filtered_call\u001b[0;34m(self, args, kwargs)\u001b[0m\n\u001b[1;32m   1609\u001b[0m          if isinstance(t, (ops.Tensor,\n\u001b[1;32m   1610\u001b[0m                            resource_variable_ops.BaseResourceVariable))),\n\u001b[0;32m-> 1611\u001b[0;31m         self.captured_inputs)\n\u001b[0m\u001b[1;32m   1612\u001b[0m \u001b[0;34m\u001b[0m\u001b[0m\n\u001b[1;32m   1613\u001b[0m   \u001b[0;32mdef\u001b[0m \u001b[0m_call_flat\u001b[0m\u001b[0;34m(\u001b[0m\u001b[0mself\u001b[0m\u001b[0;34m,\u001b[0m \u001b[0margs\u001b[0m\u001b[0;34m,\u001b[0m \u001b[0mcaptured_inputs\u001b[0m\u001b[0;34m,\u001b[0m \u001b[0mcancellation_manager\u001b[0m\u001b[0;34m=\u001b[0m\u001b[0;32mNone\u001b[0m\u001b[0;34m)\u001b[0m\u001b[0;34m:\u001b[0m\u001b[0;34m\u001b[0m\u001b[0;34m\u001b[0m\u001b[0m\n",
      "\u001b[0;32m~/anaconda3/envs/cap-env/lib/python3.7/site-packages/tensorflow_core/python/eager/function.py\u001b[0m in \u001b[0;36m_call_flat\u001b[0;34m(self, args, captured_inputs, cancellation_manager)\u001b[0m\n\u001b[1;32m   1690\u001b[0m       \u001b[0;31m# No tape is watching; skip to running the function.\u001b[0m\u001b[0;34m\u001b[0m\u001b[0;34m\u001b[0m\u001b[0;34m\u001b[0m\u001b[0m\n\u001b[1;32m   1691\u001b[0m       return self._build_call_outputs(self._inference_function.call(\n\u001b[0;32m-> 1692\u001b[0;31m           ctx, args, cancellation_manager=cancellation_manager))\n\u001b[0m\u001b[1;32m   1693\u001b[0m     forward_backward = self._select_forward_and_backward_functions(\n\u001b[1;32m   1694\u001b[0m         \u001b[0margs\u001b[0m\u001b[0;34m,\u001b[0m\u001b[0;34m\u001b[0m\u001b[0;34m\u001b[0m\u001b[0m\n",
      "\u001b[0;32m~/anaconda3/envs/cap-env/lib/python3.7/site-packages/tensorflow_core/python/eager/function.py\u001b[0m in \u001b[0;36mcall\u001b[0;34m(self, ctx, args, cancellation_manager)\u001b[0m\n\u001b[1;32m    543\u001b[0m               \u001b[0minputs\u001b[0m\u001b[0;34m=\u001b[0m\u001b[0margs\u001b[0m\u001b[0;34m,\u001b[0m\u001b[0;34m\u001b[0m\u001b[0;34m\u001b[0m\u001b[0m\n\u001b[1;32m    544\u001b[0m               \u001b[0mattrs\u001b[0m\u001b[0;34m=\u001b[0m\u001b[0;34m(\u001b[0m\u001b[0;34m\"executor_type\"\u001b[0m\u001b[0;34m,\u001b[0m \u001b[0mexecutor_type\u001b[0m\u001b[0;34m,\u001b[0m \u001b[0;34m\"config_proto\"\u001b[0m\u001b[0;34m,\u001b[0m \u001b[0mconfig\u001b[0m\u001b[0;34m)\u001b[0m\u001b[0;34m,\u001b[0m\u001b[0;34m\u001b[0m\u001b[0;34m\u001b[0m\u001b[0m\n\u001b[0;32m--> 545\u001b[0;31m               ctx=ctx)\n\u001b[0m\u001b[1;32m    546\u001b[0m         \u001b[0;32melse\u001b[0m\u001b[0;34m:\u001b[0m\u001b[0;34m\u001b[0m\u001b[0;34m\u001b[0m\u001b[0m\n\u001b[1;32m    547\u001b[0m           outputs = execute.execute_with_cancellation(\n",
      "\u001b[0;32m~/anaconda3/envs/cap-env/lib/python3.7/site-packages/tensorflow_core/python/eager/execute.py\u001b[0m in \u001b[0;36mquick_execute\u001b[0;34m(op_name, num_outputs, inputs, attrs, ctx, name)\u001b[0m\n\u001b[1;32m     65\u001b[0m     \u001b[0;32melse\u001b[0m\u001b[0;34m:\u001b[0m\u001b[0;34m\u001b[0m\u001b[0;34m\u001b[0m\u001b[0m\n\u001b[1;32m     66\u001b[0m       \u001b[0mmessage\u001b[0m \u001b[0;34m=\u001b[0m \u001b[0me\u001b[0m\u001b[0;34m.\u001b[0m\u001b[0mmessage\u001b[0m\u001b[0;34m\u001b[0m\u001b[0;34m\u001b[0m\u001b[0m\n\u001b[0;32m---> 67\u001b[0;31m     \u001b[0msix\u001b[0m\u001b[0;34m.\u001b[0m\u001b[0mraise_from\u001b[0m\u001b[0;34m(\u001b[0m\u001b[0mcore\u001b[0m\u001b[0;34m.\u001b[0m\u001b[0m_status_to_exception\u001b[0m\u001b[0;34m(\u001b[0m\u001b[0me\u001b[0m\u001b[0;34m.\u001b[0m\u001b[0mcode\u001b[0m\u001b[0;34m,\u001b[0m \u001b[0mmessage\u001b[0m\u001b[0;34m)\u001b[0m\u001b[0;34m,\u001b[0m \u001b[0;32mNone\u001b[0m\u001b[0;34m)\u001b[0m\u001b[0;34m\u001b[0m\u001b[0;34m\u001b[0m\u001b[0m\n\u001b[0m\u001b[1;32m     68\u001b[0m   \u001b[0;32mexcept\u001b[0m \u001b[0mTypeError\u001b[0m \u001b[0;32mas\u001b[0m \u001b[0me\u001b[0m\u001b[0;34m:\u001b[0m\u001b[0;34m\u001b[0m\u001b[0;34m\u001b[0m\u001b[0m\n\u001b[1;32m     69\u001b[0m     keras_symbolic_tensors = [\n",
      "\u001b[0;32m~/anaconda3/envs/cap-env/lib/python3.7/site-packages/six.py\u001b[0m in \u001b[0;36mraise_from\u001b[0;34m(value, from_value)\u001b[0m\n",
      "\u001b[0;31mResourceExhaustedError\u001b[0m:  OOM when allocating tensor with shape[32,64,224,224] and type float on /job:localhost/replica:0/task:0/device:GPU:0 by allocator GPU_0_bfc\n\t [[node model/block1_conv1/Conv2D (defined at <ipython-input-26-a9bc93f9f6fd>:21) ]]\nHint: If you want to see a list of allocated tensors when OOM happens, add report_tensor_allocations_upon_oom to RunOptions for current allocation info.\n [Op:__inference_distributed_function_644]\n\nFunction call stack:\ndistributed_function\n"
     ]
    }
   ],
   "source": [
    "transfer_values = process_images(\n",
    "                        train_img_ids,\n",
    "                        image_dir,\n",
    "                        coco_train,\n",
    "                        image_transer_model,\n",
    "                        batch_size=images_batch_size)\n",
    "transfer_values[0]"
   ]
  },
  {
   "cell_type": "markdown",
   "metadata": {
    "colab_type": "text",
    "id": "Cq4BUJdhmxN0"
   },
   "source": [
    "## Create Model to Produce Captions"
   ]
  },
  {
   "cell_type": "code",
   "execution_count": null,
   "metadata": {
    "colab": {},
    "colab_type": "code",
    "id": "UsB3X-bFouoo"
   },
   "outputs": [],
   "source": [
    "def get_captions(coco, img_ids):\n",
    "    anns_ids = coco.getAnnIds(imgIds=img_ids)\n",
    "    anns = coco.loadAnns(ids=anns_ids)\n",
    "    captions = []\n",
    "    for img_id in img_ids:\n",
    "        anns_ids = coco.getAnnIds(imgIds=img_id)\n",
    "        anns = coco.loadAnns(ids=anns_ids)\n",
    "        captions.append([ann['caption'] for ann in anns])\n",
    "    return captions"
   ]
  },
  {
   "cell_type": "code",
   "execution_count": null,
   "metadata": {
    "colab": {
     "base_uri": "https://localhost:8080/",
     "height": 122
    },
    "colab_type": "code",
    "executionInfo": {
     "elapsed": 885381,
     "status": "ok",
     "timestamp": 1582353748919,
     "user": {
      "displayName": "Casey Irvine",
      "photoUrl": "https://lh3.googleusercontent.com/a-/AAuE7mBNhl4Z3JEB3cNwOI9OVaHHMz99DTMMrZEZgqr4=s64",
      "userId": "11272809412047287046"
     },
     "user_tz": 480
    },
    "id": "hLpDLr45pCa7",
    "outputId": "34bb2480-d9eb-4655-b6cb-92e0b10b6d08"
   },
   "outputs": [],
   "source": [
    "captions_train = get_captions(coco_train, train_img_ids)\n",
    "captions_train[0]"
   ]
  },
  {
   "cell_type": "code",
   "execution_count": null,
   "metadata": {
    "colab": {},
    "colab_type": "code",
    "id": "YkUK1ndnYUGF"
   },
   "outputs": [],
   "source": [
    "def mark_captions(captions, mark_start='ssss ', mark_end=' eeee'):\n",
    "    captions_marked = [[mark_start + caption + mark_end\n",
    "                        for caption in captions_for_one_img]\n",
    "                        for captions_for_one_img in captions]\n",
    "    return captions_marked"
   ]
  },
  {
   "cell_type": "code",
   "execution_count": null,
   "metadata": {
    "colab": {
     "base_uri": "https://localhost:8080/",
     "height": 122
    },
    "colab_type": "code",
    "executionInfo": {
     "elapsed": 885375,
     "status": "ok",
     "timestamp": 1582353748921,
     "user": {
      "displayName": "Casey Irvine",
      "photoUrl": "https://lh3.googleusercontent.com/a-/AAuE7mBNhl4Z3JEB3cNwOI9OVaHHMz99DTMMrZEZgqr4=s64",
      "userId": "11272809412047287046"
     },
     "user_tz": 480
    },
    "id": "SqiD1cMAsQri",
    "outputId": "116eb3a2-8305-4cc2-9017-0f8a360e23f3"
   },
   "outputs": [],
   "source": [
    "captions_train_marked = mark_captions(captions_train,\n",
    "                                      mark_start,\n",
    "                                      mark_end)\n",
    "captions_train_marked[0]"
   ]
  },
  {
   "cell_type": "code",
   "execution_count": null,
   "metadata": {
    "colab": {},
    "colab_type": "code",
    "id": "UIaCvcGGkg-C"
   },
   "outputs": [],
   "source": [
    "def flatten(captions):\n",
    "    captions_flat = [caption\n",
    "                     for captions_for_one_img in captions\n",
    "                     for caption in captions_for_one_img]\n",
    "    return captions_flat"
   ]
  },
  {
   "cell_type": "code",
   "execution_count": null,
   "metadata": {
    "colab": {
     "base_uri": "https://localhost:8080/",
     "height": 122
    },
    "colab_type": "code",
    "executionInfo": {
     "elapsed": 885369,
     "status": "ok",
     "timestamp": 1582353748922,
     "user": {
      "displayName": "Casey Irvine",
      "photoUrl": "https://lh3.googleusercontent.com/a-/AAuE7mBNhl4Z3JEB3cNwOI9OVaHHMz99DTMMrZEZgqr4=s64",
      "userId": "11272809412047287046"
     },
     "user_tz": 480
    },
    "id": "2JKy1zign8X_",
    "outputId": "6d6090ab-fa95-4c24-b000-89be88a4f8ee"
   },
   "outputs": [],
   "source": [
    "captions_train_flat = flatten(captions_train_marked)\n",
    "captions_train_flat[:5]"
   ]
  },
  {
   "cell_type": "code",
   "execution_count": null,
   "metadata": {
    "colab": {},
    "colab_type": "code",
    "id": "74QubdPUtNBg"
   },
   "outputs": [],
   "source": [
    "class TokenizerWrap(Tokenizer):\n",
    "    \"\"\"Wrap the Tokenizer-class from Keras with more functionality.\"\"\"\n",
    "    \n",
    "    def __init__(self, texts, num_words=None):\n",
    "        \"\"\"\n",
    "        :param texts: List of strings with the data-set.\n",
    "        :param num_words: Max number of words to use.\n",
    "        \"\"\"\n",
    "        super().__init__(num_words=num_words)\n",
    "\n",
    "        # Create the vocabulary from the texts.\n",
    "        self.fit_on_texts(texts)\n",
    "\n",
    "        # Create inverse lookup from integer-tokens to words.\n",
    "        self.index_to_word = dict(zip(self.word_index.values(),\n",
    "                                      self.word_index.keys()))\n",
    "\n",
    "    def token_to_word(self, token):\n",
    "        \"\"\"Lookup a single word from an integer-token.\"\"\"\n",
    "\n",
    "        word = \" \" if token == 0 else self.index_to_word[token]\n",
    "        return word \n",
    "\n",
    "    def tokens_to_string(self, tokens):\n",
    "        \"\"\"Convert a list of integer-tokens to a string.\"\"\"\n",
    "\n",
    "        # Create a list of the individual words.\n",
    "        words = [self.index_to_word[token]\n",
    "                 for token in tokens\n",
    "                 if token != 0]\n",
    "        \n",
    "        # Concatenate the words to a single string\n",
    "        # with space between all the words.\n",
    "        text = \" \".join(words)\n",
    "\n",
    "        return text\n",
    "    \n",
    "    def captions_to_tokens(self, captions_listlist):\n",
    "        \"\"\"\n",
    "        Convert a list-of-list with text-captions to\n",
    "        a list-of-list of integer-tokens.\n",
    "        \"\"\"\n",
    "        \n",
    "        # Note that text_to_sequences() takes a list of texts.\n",
    "        tokens = [self.texts_to_sequences(captions_list)\n",
    "                  for captions_list in captions_listlist]\n",
    "        \n",
    "        return tokens"
   ]
  },
  {
   "cell_type": "code",
   "execution_count": null,
   "metadata": {
    "cellView": "both",
    "colab": {
     "base_uri": "https://localhost:8080/",
     "height": 51
    },
    "colab_type": "code",
    "executionInfo": {
     "elapsed": 885611,
     "status": "ok",
     "timestamp": 1582353749171,
     "user": {
      "displayName": "Casey Irvine",
      "photoUrl": "https://lh3.googleusercontent.com/a-/AAuE7mBNhl4Z3JEB3cNwOI9OVaHHMz99DTMMrZEZgqr4=s64",
      "userId": "11272809412047287046"
     },
     "user_tz": 480
    },
    "id": "Hh7kYuckutOi",
    "outputId": "9dae7e8b-9afb-41df-8830-78883cd9a237"
   },
   "outputs": [],
   "source": [
    "%%time\n",
    "tokenizer = TokenizerWrap(texts=captions_train_flat, num_words=num_words)"
   ]
  },
  {
   "cell_type": "code",
   "execution_count": null,
   "metadata": {
    "colab": {
     "base_uri": "https://localhost:8080/",
     "height": 34
    },
    "colab_type": "code",
    "executionInfo": {
     "elapsed": 885609,
     "status": "ok",
     "timestamp": 1582353749172,
     "user": {
      "displayName": "Casey Irvine",
      "photoUrl": "https://lh3.googleusercontent.com/a-/AAuE7mBNhl4Z3JEB3cNwOI9OVaHHMz99DTMMrZEZgqr4=s64",
      "userId": "11272809412047287046"
     },
     "user_tz": 480
    },
    "id": "0ob4clwwvDH3",
    "outputId": "54107058-ddd9-4a95-f8b0-5d58889e3fe5"
   },
   "outputs": [],
   "source": [
    "token_start = tokenizer.word_index[mark_start.strip()]\n",
    "token_start"
   ]
  },
  {
   "cell_type": "code",
   "execution_count": null,
   "metadata": {
    "colab": {
     "base_uri": "https://localhost:8080/",
     "height": 34
    },
    "colab_type": "code",
    "executionInfo": {
     "elapsed": 885607,
     "status": "ok",
     "timestamp": 1582353749173,
     "user": {
      "displayName": "Casey Irvine",
      "photoUrl": "https://lh3.googleusercontent.com/a-/AAuE7mBNhl4Z3JEB3cNwOI9OVaHHMz99DTMMrZEZgqr4=s64",
      "userId": "11272809412047287046"
     },
     "user_tz": 480
    },
    "id": "J0SXOrj2wXuo",
    "outputId": "d7bfa48c-55d9-467e-cbbb-54a9105a4332"
   },
   "outputs": [],
   "source": [
    "token_end = tokenizer.word_index[mark_end.strip()]\n",
    "token_end"
   ]
  },
  {
   "cell_type": "code",
   "execution_count": null,
   "metadata": {
    "colab": {
     "base_uri": "https://localhost:8080/",
     "height": 51
    },
    "colab_type": "code",
    "executionInfo": {
     "elapsed": 885605,
     "status": "ok",
     "timestamp": 1582353749174,
     "user": {
      "displayName": "Casey Irvine",
      "photoUrl": "https://lh3.googleusercontent.com/a-/AAuE7mBNhl4Z3JEB3cNwOI9OVaHHMz99DTMMrZEZgqr4=s64",
      "userId": "11272809412047287046"
     },
     "user_tz": 480
    },
    "id": "S-bCSsijx1hJ",
    "outputId": "a064535e-9489-43a9-b54e-04150dd76417"
   },
   "outputs": [],
   "source": [
    "%%time\n",
    "tokens_train = tokenizer.captions_to_tokens(captions_train_marked)"
   ]
  },
  {
   "cell_type": "code",
   "execution_count": null,
   "metadata": {
    "colab": {},
    "colab_type": "code",
    "id": "Md2WFH6qygoF"
   },
   "outputs": [],
   "source": [
    "def get_random_caption_tokens(img_indices, tokens):\n",
    "    \"\"\"\n",
    "    Given a list of indices for images in the training-set,\n",
    "    select a token-sequence for a random caption for each image,\n",
    "    and return a list of all these token-sequences.\n",
    "    \"\"\"\n",
    "    result = []\n",
    "    for img_index in img_indices:\n",
    "        caption_index = np.random.choice(len(tokens[img_index]))\n",
    "        random_tokens = tokens[img_index][caption_index]\n",
    "        result.append(random_tokens)\n",
    "    return result"
   ]
  },
  {
   "cell_type": "code",
   "execution_count": null,
   "metadata": {
    "colab": {},
    "colab_type": "code",
    "id": "_1vBUMfHzxYh"
   },
   "outputs": [],
   "source": [
    "def batch_generator(num_images, transfer_values, tokens, batch_size):\n",
    "    \"\"\"\n",
    "    Generator function for creating random batches of training-data.\n",
    "    \n",
    "    Note that it selects the data completely randomly for each\n",
    "    batch, corresponding to sampling of the training-set with\n",
    "    replacement. This means it is possible to sample the same\n",
    "    data multiple times within a single epoch - and it is also\n",
    "    possible that some data is not sampled at all within an epoch.\n",
    "    However, all the data should be unique within a single batch.\n",
    "    \"\"\"\n",
    "\n",
    "    # Infinite loop.\n",
    "    while True:\n",
    "        # Get a list of random indices for images in the training-set.\n",
    "        random_img_indices = np.random.randint(num_images, size=batch_size)\n",
    "        \n",
    "        # Get the pre-computed transfer-values for those images.\n",
    "        # These are the outputs of the pre-trained image-model.\n",
    "        tv = transfer_values[random_img_indices]\n",
    "\n",
    "        # For each of the randomly chosen images there are\n",
    "        # at least 5 captions describing the contents of the image.\n",
    "        # Select one of those captions at random and get the\n",
    "        # associated sequence of integer-tokens.\n",
    "        random_tokens = get_random_caption_tokens(random_img_indices, tokens)\n",
    "\n",
    "        # Count the number of tokens in all these token-sequences.\n",
    "        num_tokens = [len(t) for t in random_tokens]\n",
    "        \n",
    "        # Max number of tokens.\n",
    "        max_tokens = np.max(num_tokens)\n",
    "        \n",
    "        # Pad all the other token-sequences with zeros\n",
    "        # so they all have the same length and can be\n",
    "        # input to the neural network as a numpy array.\n",
    "        tokens_padded = pad_sequences(random_tokens,\n",
    "                                      maxlen=max_tokens,\n",
    "                                      padding='post',\n",
    "                                      truncating='post')\n",
    "        \n",
    "        # Further prepare the token-sequences.\n",
    "        # The decoder-part of the neural network\n",
    "        # will try to map the token-sequences to\n",
    "        # themselves shifted one time-step.\n",
    "        decoder_input_data = tokens_padded[:, 0:-1]\n",
    "        decoder_output_data = tokens_padded[:, 1:]\n",
    "\n",
    "        # Dict for the input-data. Because we have\n",
    "        # several inputs, we use a named dict to\n",
    "        # ensure that the data is assigned correctly.\n",
    "        x_data = \\\n",
    "        {\n",
    "            'decoder_input': decoder_input_data,\n",
    "            'transfer_values_input': tv\n",
    "        }\n",
    "\n",
    "        # Dict for the output-data.\n",
    "        y_data = \\\n",
    "        {\n",
    "            'decoder_output': decoder_output_data\n",
    "        }\n",
    "        \n",
    "        yield (x_data, y_data)"
   ]
  },
  {
   "cell_type": "code",
   "execution_count": null,
   "metadata": {
    "colab": {},
    "colab_type": "code",
    "id": "akRWmfm60UKr"
   },
   "outputs": [],
   "source": [
    "generator = batch_generator(\n",
    "                num_images=len(train_img_ids),\n",
    "                transfer_values=transfer_values,\n",
    "                tokens=tokens_train,\n",
    "                batch_size=batch_size)"
   ]
  },
  {
   "cell_type": "code",
   "execution_count": null,
   "metadata": {
    "colab": {},
    "colab_type": "code",
    "id": "bnacHEFz0iHW"
   },
   "outputs": [],
   "source": [
    "batch = next(generator)\n",
    "batch_x = batch[0]\n",
    "batch_y = batch[1]"
   ]
  },
  {
   "cell_type": "code",
   "execution_count": null,
   "metadata": {
    "colab": {
     "base_uri": "https://localhost:8080/",
     "height": 34
    },
    "colab_type": "code",
    "executionInfo": {
     "elapsed": 885592,
     "status": "ok",
     "timestamp": 1582353749178,
     "user": {
      "displayName": "Casey Irvine",
      "photoUrl": "https://lh3.googleusercontent.com/a-/AAuE7mBNhl4Z3JEB3cNwOI9OVaHHMz99DTMMrZEZgqr4=s64",
      "userId": "11272809412047287046"
     },
     "user_tz": 480
    },
    "id": "gBJMv1L20kY-",
    "outputId": "fd4b574f-fe14-4df4-e35f-642f16ae5803"
   },
   "outputs": [],
   "source": [
    "batch_x['transfer_values_input'][0]"
   ]
  },
  {
   "cell_type": "code",
   "execution_count": null,
   "metadata": {
    "colab": {
     "base_uri": "https://localhost:8080/",
     "height": 68
    },
    "colab_type": "code",
    "executionInfo": {
     "elapsed": 885908,
     "status": "ok",
     "timestamp": 1582353749497,
     "user": {
      "displayName": "Casey Irvine",
      "photoUrl": "https://lh3.googleusercontent.com/a-/AAuE7mBNhl4Z3JEB3cNwOI9OVaHHMz99DTMMrZEZgqr4=s64",
      "userId": "11272809412047287046"
     },
     "user_tz": 480
    },
    "id": "mt--k62J0mKo",
    "outputId": "ecc0bbe0-c77f-4654-9837-8dd890e93645"
   },
   "outputs": [],
   "source": [
    "batch_x['decoder_input'][0]"
   ]
  },
  {
   "cell_type": "code",
   "execution_count": null,
   "metadata": {
    "colab": {
     "base_uri": "https://localhost:8080/",
     "height": 68
    },
    "colab_type": "code",
    "executionInfo": {
     "elapsed": 885907,
     "status": "ok",
     "timestamp": 1582353749499,
     "user": {
      "displayName": "Casey Irvine",
      "photoUrl": "https://lh3.googleusercontent.com/a-/AAuE7mBNhl4Z3JEB3cNwOI9OVaHHMz99DTMMrZEZgqr4=s64",
      "userId": "11272809412047287046"
     },
     "user_tz": 480
    },
    "id": "lnHr4S4N5H0d",
    "outputId": "9501891a-c558-495d-a477-367e7a3c766a"
   },
   "outputs": [],
   "source": [
    "batch_y['decoder_output'][0]"
   ]
  },
  {
   "cell_type": "code",
   "execution_count": null,
   "metadata": {
    "colab": {},
    "colab_type": "code",
    "id": "BuUcqYtF6Yyl"
   },
   "outputs": [],
   "source": [
    "def create_decoder_model(transfer_values_size,\n",
    "                         state_size,\n",
    "                         embedding_size,\n",
    "                         num_words):\n",
    "    # Define the layers\n",
    "    transfer_values_input = Input(shape=(transfer_values_size,),\n",
    "                              name='transfer_values_input')\n",
    "\n",
    "    decoder_transfer_map = Dense(state_size,\n",
    "                                activation='tanh',\n",
    "                                name='decoder_transfer_map')\n",
    "\n",
    "    decoder_input = Input(shape=(None, ), name='decoder_input')\n",
    "\n",
    "    decoder_embedding = Embedding(input_dim=num_words,\n",
    "                                output_dim=embedding_size,\n",
    "                                name='decoder_embedding')\n",
    "\n",
    "    decoder_gru1 = GRU(state_size, name='decoder_gru1',\n",
    "                    return_sequences=True)\n",
    "    decoder_gru2 = GRU(state_size, name='decoder_gru2',\n",
    "                    return_sequences=True)\n",
    "    decoder_gru3 = GRU(state_size, name='decoder_gru3',\n",
    "                    return_sequences=True)\n",
    "\n",
    "    # Dense is another term for Fully Connected\n",
    "    decoder_dense = Dense(num_words,\n",
    "                        activation='linear',\n",
    "                        name='decoder_output')\n",
    "\n",
    "    # Map the transfer-values so the dimensionality matches\n",
    "    # the internal state of the GRU layers. This means\n",
    "    # we can use the mapped transfer-values as the initial state\n",
    "    # of the GRU layers.\n",
    "    initial_state = decoder_transfer_map(transfer_values_input)\n",
    "\n",
    "    # Start the decoder-network with its input-layer.\n",
    "    net = decoder_input\n",
    "    \n",
    "    # Connect the embedding-layer.\n",
    "    net = decoder_embedding(net)\n",
    "    \n",
    "    # Connect all the GRU layers.\n",
    "    net = decoder_gru1(net, initial_state=initial_state)\n",
    "    net = decoder_gru2(net, initial_state=initial_state)\n",
    "    net = decoder_gru3(net, initial_state=initial_state)\n",
    "\n",
    "    # Connect the final dense layer that converts to\n",
    "    # one-hot encoded arrays.\n",
    "    decoder_output = decoder_dense(net)\n",
    "\n",
    "    decoder_model = Model(inputs=[transfer_values_input, decoder_input],\n",
    "                      outputs=[decoder_output])\n",
    "    \n",
    "    return decoder_model"
   ]
  },
  {
   "cell_type": "code",
   "execution_count": null,
   "metadata": {
    "colab": {},
    "colab_type": "code",
    "id": "V5wvYEEv6-_K"
   },
   "outputs": [],
   "source": [
    "def sparse_cross_entropy(y_true, y_pred):\n",
    "    \"\"\"\n",
    "    Calculate the cross-entropy loss between y_true and y_pred.\n",
    "    \n",
    "    y_true is a 2-rank tensor with the desired output.\n",
    "    The shape is [batch_size, sequence_length] and it\n",
    "    contains sequences of integer-tokens.\n",
    "\n",
    "    y_pred is the decoder's output which is a 3-rank tensor\n",
    "    with shape [batch_size, sequence_length, num_words]\n",
    "    so that for each sequence in the batch there is a one-hot\n",
    "    encoded array of length num_words.\n",
    "    \"\"\"\n",
    "\n",
    "    # Calculate the loss. This outputs a\n",
    "    # 2-rank tensor of shape [batch_size, sequence_length]\n",
    "    loss = tf.nn.sparse_softmax_cross_entropy_with_logits(labels=y_true,\n",
    "                                                          logits=y_pred)\n",
    "\n",
    "    # Keras may reduce this across the first axis (the batch)\n",
    "    # but the semantics are unclear, so to be sure we use\n",
    "    # the loss across the entire 2-rank tensor, we reduce it\n",
    "    # to a single scalar with the mean function.\n",
    "    loss_mean = tf.reduce_mean(loss)\n",
    "\n",
    "    return loss_mean"
   ]
  },
  {
   "cell_type": "code",
   "execution_count": null,
   "metadata": {
    "colab": {
     "base_uri": "https://localhost:8080/",
     "height": 88
    },
    "colab_type": "code",
    "executionInfo": {
     "elapsed": 886417,
     "status": "ok",
     "timestamp": 1582353750019,
     "user": {
      "displayName": "Casey Irvine",
      "photoUrl": "https://lh3.googleusercontent.com/a-/AAuE7mBNhl4Z3JEB3cNwOI9OVaHHMz99DTMMrZEZgqr4=s64",
      "userId": "11272809412047287046"
     },
     "user_tz": 480
    },
    "id": "lqN9BQrZ9rAo",
    "outputId": "daca9bb1-43d0-4902-f347-b88b6435c878"
   },
   "outputs": [],
   "source": [
    "decoder_model = create_decoder_model(\n",
    "    transfer_values_size, state_size, embedding_size, num_words)\n",
    "optimizer = RMSprop(lr=1e-3)\n",
    "decoder_target = tf.placeholder(dtype='int32', shape=(None, None))\n",
    "decoder_model.compile(optimizer=optimizer,\n",
    "                      loss=sparse_cross_entropy,\n",
    "                      target_tensors=[decoder_target])"
   ]
  },
  {
   "cell_type": "markdown",
   "metadata": {
    "colab_type": "text",
    "id": "aR9yagnYaxLX"
   },
   "source": [
    "### Train the model"
   ]
  },
  {
   "cell_type": "code",
   "execution_count": null,
   "metadata": {
    "colab": {
     "base_uri": "https://localhost:8080/",
     "height": 190
    },
    "colab_type": "code",
    "id": "1xtXwFvz-jll",
    "outputId": "eebd4311-10f6-4f04-a26d-faab60037354"
   },
   "outputs": [],
   "source": [
    "%%time\n",
    "decoder_model.fit_generator(generator=generator,\n",
    "                            steps_per_epoch=steps_per_epoch,\n",
    "                            epochs=epochs)"
   ]
  },
  {
   "cell_type": "markdown",
   "metadata": {
    "colab_type": "text",
    "id": "B_CUy1XZaogy"
   },
   "source": [
    "## Use The Model to Generate Captions for Images"
   ]
  },
  {
   "cell_type": "code",
   "execution_count": null,
   "metadata": {
    "colab": {},
    "colab_type": "code",
    "id": "yDCmQMciaoC2"
   },
   "outputs": [],
   "source": [
    "def generate_caption(\n",
    "    image,\n",
    "    image_model_transfer,\n",
    "    decoder_model,\n",
    "    tokenizer,\n",
    "    token_start='ssss ',\n",
    "    token_end=' eeee',\n",
    "    max_tokens=30):\n",
    "    \"\"\"\n",
    "    Generate a caption for the given image.\n",
    "    The caption is limited to the given number of tokens (words).\n",
    "    \"\"\"\n",
    "\n",
    "    # Expand the 3-dim numpy array to 4-dim\n",
    "    # because the image-model expects a whole batch as input,\n",
    "    # so we give it a batch with just one image.\n",
    "    image_batch = np.expand_dims(image, axis=0)\n",
    "\n",
    "    # Process the image with the pre-trained image-model\n",
    "    # to get the transfer-values.\n",
    "    transfer_values = image_model_transfer.predict(image_batch)\n",
    "\n",
    "    # Pre-allocate the 2-dim array used as input to the decoder.\n",
    "    # This holds just a single sequence of integer-tokens,\n",
    "    # but the decoder-model expects a batch of sequences.\n",
    "    shape = (1, max_tokens)\n",
    "    decoder_input_data = np.zeros(shape=shape, dtype=np.int)\n",
    "\n",
    "    # The first input-token is the special start-token for 'ssss '.\n",
    "    token_int = token_start\n",
    "    output_text = ''\n",
    "    count_tokens = 0\n",
    "\n",
    "    # While we haven't sampled the special end-token for ' eeee'\n",
    "    # and we haven't processed the max number of tokens.\n",
    "    while token_int != token_end and count_tokens < max_tokens:\n",
    "        # Update the input-sequence to the decoder\n",
    "        # with the last token that was sampled.\n",
    "        # In the first iteration this will set the\n",
    "        # first element to the start-token.\n",
    "        decoder_input_data[0, count_tokens] = token_int\n",
    "\n",
    "        # Wrap the input-data in a dict for clarity and safety,\n",
    "        # so we are sure we input the data in the right order.\n",
    "        x_data = \\\n",
    "        {\n",
    "            'transfer_values_input': transfer_values,\n",
    "            'decoder_input': decoder_input_data\n",
    "        }\n",
    "\n",
    "        # Note that we input the entire sequence of tokens\n",
    "        # to the decoder. This wastes a lot of computation\n",
    "        # because we are only interested in the last input\n",
    "        # and output. We could modify the code to return\n",
    "        # the GRU-states when calling predict() and then\n",
    "        # feeding these GRU-states as well the next time\n",
    "        # we call predict(), but it would make the code\n",
    "        # much more complicated.\n",
    "        \n",
    "        # Input this data to the decoder and get the predicted output.\n",
    "        decoder_output = decoder_model.predict(x_data)\n",
    "\n",
    "        # Get the last predicted token as a one-hot encoded array.\n",
    "        # Note that this is not limited by softmax, but we just\n",
    "        # need the index of the largest element so it doesn't matter.\n",
    "        token_onehot = decoder_output[0, count_tokens, :]\n",
    "\n",
    "        # Convert to an integer-token.\n",
    "        token_int = np.argmax(token_onehot)\n",
    "\n",
    "        # Lookup the word corresponding to this integer-token.\n",
    "        sampled_word = tokenizer.token_to_word(token_int)\n",
    "\n",
    "        # Append the word to the output-text.\n",
    "        output_text += \" \" + sampled_word\n",
    "\n",
    "        # Increment the token-counter.\n",
    "        count_tokens += 1\n",
    "\n",
    "    # This is the sequence of tokens output by the decoder.\n",
    "    output_tokens = decoder_input_data[0]\n",
    "    return output_tokens"
   ]
  },
  {
   "cell_type": "code",
   "execution_count": null,
   "metadata": {},
   "outputs": [],
   "source": [
    "for val_image_id in val_image_ids:\n",
    "    show_images(val_image_id, coco_val, image_dir)\n",
    "    image_props = coco_val.loadImgs(val_image_id)\n",
    "    image = load_image(os.path.join(image_dir, image_props['filename']), img_size)\n",
    "    print('Generated Caption:')\n",
    "    caption = generate_caption(image, image_model_transfer, decoder_model, tokenizer)\n",
    "    print(caption)"
   ]
  }
 ],
 "metadata": {
  "colab": {
   "authorship_tag": "ABX9TyNi3UE1rK0iKQ3GVGrusnfS",
   "collapsed_sections": [
    "Dfa_QWt_lhHJ"
   ],
   "name": "load-coco-dataset.ipynb",
   "provenance": [],
   "toc_visible": true
  },
  "kernelspec": {
   "display_name": "cap-env",
   "language": "python",
   "name": "cap-env"
  },
  "language_info": {
   "codemirror_mode": {
    "name": "ipython",
    "version": 3
   },
   "file_extension": ".py",
   "mimetype": "text/x-python",
   "name": "python",
   "nbconvert_exporter": "python",
   "pygments_lexer": "ipython3",
   "version": "3.7.6"
  },
  "widgets": {
   "application/vnd.jupyter.widget-state+json": {
    "4e69541d71694f67bad593985a0aa827": {
     "model_module": "@jupyter-widgets/base",
     "model_name": "LayoutModel",
     "state": {
      "_model_module": "@jupyter-widgets/base",
      "_model_module_version": "1.2.0",
      "_model_name": "LayoutModel",
      "_view_count": null,
      "_view_module": "@jupyter-widgets/base",
      "_view_module_version": "1.2.0",
      "_view_name": "LayoutView",
      "align_content": null,
      "align_items": null,
      "align_self": null,
      "border": null,
      "bottom": null,
      "display": null,
      "flex": null,
      "flex_flow": null,
      "grid_area": null,
      "grid_auto_columns": null,
      "grid_auto_flow": null,
      "grid_auto_rows": null,
      "grid_column": null,
      "grid_gap": null,
      "grid_row": null,
      "grid_template_areas": null,
      "grid_template_columns": null,
      "grid_template_rows": null,
      "height": null,
      "justify_content": null,
      "justify_items": null,
      "left": null,
      "margin": null,
      "max_height": null,
      "max_width": null,
      "min_height": null,
      "min_width": null,
      "object_fit": null,
      "object_position": null,
      "order": null,
      "overflow": null,
      "overflow_x": null,
      "overflow_y": null,
      "padding": null,
      "right": null,
      "top": null,
      "visibility": null,
      "width": null
     }
    },
    "51eb987bf1a04ef698e96c3d5597494e": {
     "model_module": "@jupyter-widgets/controls",
     "model_name": "IntProgressModel",
     "state": {
      "_dom_classes": [],
      "_model_module": "@jupyter-widgets/controls",
      "_model_module_version": "1.5.0",
      "_model_name": "IntProgressModel",
      "_view_count": null,
      "_view_module": "@jupyter-widgets/controls",
      "_view_module_version": "1.5.0",
      "_view_name": "ProgressView",
      "bar_style": "success",
      "description": "",
      "description_tooltip": null,
      "layout": "IPY_MODEL_d5cc51818aad4e78a6a3f9c6b66c4f16",
      "max": 1,
      "min": 0,
      "orientation": "horizontal",
      "style": "IPY_MODEL_6463bfd9d23249fcb075dd1901e8902b",
      "value": 1
     }
    },
    "6463bfd9d23249fcb075dd1901e8902b": {
     "model_module": "@jupyter-widgets/controls",
     "model_name": "ProgressStyleModel",
     "state": {
      "_model_module": "@jupyter-widgets/controls",
      "_model_module_version": "1.5.0",
      "_model_name": "ProgressStyleModel",
      "_view_count": null,
      "_view_module": "@jupyter-widgets/base",
      "_view_module_version": "1.2.0",
      "_view_name": "StyleView",
      "bar_color": null,
      "description_width": ""
     }
    },
    "a07b879adfb84e9cab074fe66f1f91ec": {
     "model_module": "@jupyter-widgets/base",
     "model_name": "LayoutModel",
     "state": {
      "_model_module": "@jupyter-widgets/base",
      "_model_module_version": "1.2.0",
      "_model_name": "LayoutModel",
      "_view_count": null,
      "_view_module": "@jupyter-widgets/base",
      "_view_module_version": "1.2.0",
      "_view_name": "LayoutView",
      "align_content": null,
      "align_items": null,
      "align_self": null,
      "border": null,
      "bottom": null,
      "display": null,
      "flex": null,
      "flex_flow": null,
      "grid_area": null,
      "grid_auto_columns": null,
      "grid_auto_flow": null,
      "grid_auto_rows": null,
      "grid_column": null,
      "grid_gap": null,
      "grid_row": null,
      "grid_template_areas": null,
      "grid_template_columns": null,
      "grid_template_rows": null,
      "height": null,
      "justify_content": null,
      "justify_items": null,
      "left": null,
      "margin": null,
      "max_height": null,
      "max_width": null,
      "min_height": null,
      "min_width": null,
      "object_fit": null,
      "object_position": null,
      "order": null,
      "overflow": null,
      "overflow_x": null,
      "overflow_y": null,
      "padding": null,
      "right": null,
      "top": null,
      "visibility": null,
      "width": null
     }
    },
    "ae8bb580d1124deb87516abeddd4dafc": {
     "model_module": "@jupyter-widgets/controls",
     "model_name": "DescriptionStyleModel",
     "state": {
      "_model_module": "@jupyter-widgets/controls",
      "_model_module_version": "1.5.0",
      "_model_name": "DescriptionStyleModel",
      "_view_count": null,
      "_view_module": "@jupyter-widgets/base",
      "_view_module_version": "1.2.0",
      "_view_name": "StyleView",
      "description_width": ""
     }
    },
    "d5cc51818aad4e78a6a3f9c6b66c4f16": {
     "model_module": "@jupyter-widgets/base",
     "model_name": "LayoutModel",
     "state": {
      "_model_module": "@jupyter-widgets/base",
      "_model_module_version": "1.2.0",
      "_model_name": "LayoutModel",
      "_view_count": null,
      "_view_module": "@jupyter-widgets/base",
      "_view_module_version": "1.2.0",
      "_view_name": "LayoutView",
      "align_content": null,
      "align_items": null,
      "align_self": null,
      "border": null,
      "bottom": null,
      "display": null,
      "flex": null,
      "flex_flow": null,
      "grid_area": null,
      "grid_auto_columns": null,
      "grid_auto_flow": null,
      "grid_auto_rows": null,
      "grid_column": null,
      "grid_gap": null,
      "grid_row": null,
      "grid_template_areas": null,
      "grid_template_columns": null,
      "grid_template_rows": null,
      "height": null,
      "justify_content": null,
      "justify_items": null,
      "left": null,
      "margin": null,
      "max_height": null,
      "max_width": null,
      "min_height": null,
      "min_width": null,
      "object_fit": null,
      "object_position": null,
      "order": null,
      "overflow": null,
      "overflow_x": null,
      "overflow_y": null,
      "padding": null,
      "right": null,
      "top": null,
      "visibility": null,
      "width": null
     }
    },
    "d5ea53078da04aa29b812271df9a7a0d": {
     "model_module": "@jupyter-widgets/controls",
     "model_name": "HBoxModel",
     "state": {
      "_dom_classes": [],
      "_model_module": "@jupyter-widgets/controls",
      "_model_module_version": "1.5.0",
      "_model_name": "HBoxModel",
      "_view_count": null,
      "_view_module": "@jupyter-widgets/controls",
      "_view_module_version": "1.5.0",
      "_view_name": "HBoxView",
      "box_style": "",
      "children": [
       "IPY_MODEL_51eb987bf1a04ef698e96c3d5597494e",
       "IPY_MODEL_f7782f82bedc4b9faa433fcb521e20dd"
      ],
      "layout": "IPY_MODEL_a07b879adfb84e9cab074fe66f1f91ec"
     }
    },
    "f7782f82bedc4b9faa433fcb521e20dd": {
     "model_module": "@jupyter-widgets/controls",
     "model_name": "HTMLModel",
     "state": {
      "_dom_classes": [],
      "_model_module": "@jupyter-widgets/controls",
      "_model_module_version": "1.5.0",
      "_model_name": "HTMLModel",
      "_view_count": null,
      "_view_module": "@jupyter-widgets/controls",
      "_view_module_version": "1.5.0",
      "_view_name": "HTMLView",
      "description": "",
      "description_tooltip": null,
      "layout": "IPY_MODEL_4e69541d71694f67bad593985a0aa827",
      "placeholder": "​",
      "style": "IPY_MODEL_ae8bb580d1124deb87516abeddd4dafc",
      "value": "4it [00:53, 12.79s/it]"
     }
    }
   }
  }
 },
 "nbformat": 4,
 "nbformat_minor": 4
}
